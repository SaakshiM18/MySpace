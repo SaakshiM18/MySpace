{
 "cells": [
  {
   "cell_type": "markdown",
   "metadata": {},
   "source": [
    "# Q1 Install Jupyter notebook and run the first program and share the screenshot of the output\n"
   ]
  },
  {
   "cell_type": "code",
   "execution_count": null,
   "metadata": {},
   "outputs": [],
   "source": [
    "print(\"This is my first statement\")"
   ]
  },
  {
   "cell_type": "markdown",
   "metadata": {},
   "source": [
    "# Q2 Write a program which will find all such numbers which are divisible by 7 but are not a multiple of 5, between 2000 and 3200 (both included). The numbers obtained should be printed in a comma-separated sequence on a single line."
   ]
  },
  {
   "cell_type": "code",
   "execution_count": null,
   "metadata": {},
   "outputs": [],
   "source": [
    "for i in range(2000, 3201):\n",
    "    if i%7==0 and i%5!=0:\n",
    "        print (i,end=',')"
   ]
  },
  {
   "cell_type": "markdown",
   "metadata": {},
   "source": [
    "# Q3 Write a Python program to accept the user's first and last name and then getting them printed in the the reverse order with a space between first name and last name."
   ]
  },
  {
   "cell_type": "code",
   "execution_count": null,
   "metadata": {},
   "outputs": [],
   "source": [
    "# this is one way\n",
    "x= input(\"Enter your first name \")\n",
    "y= input(\"Enter your last name\")\n",
    "print(\"The name entered is {} {} and the reverse of name is {} {}\".format(x,y,y,x))\n",
    "\n",
    "# or\n",
    "\n",
    "\"The name entered is {} {}\".format(y,x)"
   ]
  },
  {
   "cell_type": "code",
   "execution_count": null,
   "metadata": {},
   "outputs": [],
   "source": [
    "#Second way\n",
    "s=[input(\"Enter your first name \"),input(\"Enter your last name\")]\n",
    "print(s[1]+\" \"+s[0])\n"
   ]
  },
  {
   "cell_type": "code",
   "execution_count": null,
   "metadata": {},
   "outputs": [],
   "source": [
    "# Third way\n",
    "s.reverse()\n",
    "s\n",
    "# this function reverse the list permanently"
   ]
  },
  {
   "cell_type": "markdown",
   "metadata": {},
   "source": [
    "# Q4 Write a Python program to find the volume of a sphere with diameter 12 cm.\n",
    "        # Formula: V=4/3 * π * r** 3"
   ]
  },
  {
   "cell_type": "code",
   "execution_count": null,
   "metadata": {},
   "outputs": [],
   "source": [
    "Pi=3.14\n",
    "\n",
    "d=12\n",
    "v=(4/3)*Pi*(d/2)**3\n",
    "\n",
    "print(\"the volume of a sphere with diameter 12cm is {}\".format(v) )"
   ]
  },
  {
   "cell_type": "markdown",
   "metadata": {},
   "source": [
    "# Task 2"
   ]
  },
  {
   "cell_type": "markdown",
   "metadata": {},
   "source": [
    "# Q1 Write a program which accepts a sequence of comma-separated numbers from console and generate a list."
   ]
  },
  {
   "cell_type": "code",
   "execution_count": null,
   "metadata": {},
   "outputs": [],
   "source": [
    "items = str(input(\"Enter the sequence of comma seperated numbers for a list\"))\n",
    "lst=items.split(',')\n",
    "print(type(lst))\n",
    "print(lst)"
   ]
  },
  {
   "cell_type": "markdown",
   "metadata": {},
   "source": [
    "# Create the below pattern using nested for loop in Python.\n",
    "*\n",
    "* *\n",
    "* * *\n",
    "* * * *\n",
    "* * * * *\n",
    "* * * *\n",
    "* * *\n",
    "* *\n",
    "*\n"
   ]
  },
  {
   "cell_type": "code",
   "execution_count": 10,
   "metadata": {},
   "outputs": [
    {
     "name": "stdout",
     "output_type": "stream",
     "text": [
      "Enter the number of levels10\n",
      "\n",
      "*\n",
      "**\n",
      "***\n",
      "****\n",
      "*****\n",
      "******\n",
      "*******\n",
      "********\n",
      "*********\n",
      "**********\n",
      "*********\n",
      "********\n",
      "*******\n",
      "******\n",
      "*****\n",
      "****\n",
      "***\n",
      "**\n",
      "*\n",
      "\n"
     ]
    }
   ],
   "source": [
    "iteration=int(input(\"Enter the number of levels \"))\n",
    "a=\"*\"\n",
    "j=iteration-1\n",
    "\n",
    "for i in range(iteration+1):\n",
    "    print(a*i)\n",
    "    \n",
    "for i in range(iteration):\n",
    "    k=j-i\n",
    "    print(a*k)"
   ]
  },
  {
   "cell_type": "markdown",
   "metadata": {},
   "source": [
    "#     Write a Python program to reverse a word after accepting the input from the user.\n",
    "    Sample Output:\n",
    "    Input word: AcadGild\n",
    "    Output: dilGdacA "
   ]
  },
  {
   "cell_type": "code",
   "execution_count": 14,
   "metadata": {},
   "outputs": [
    {
     "name": "stdout",
     "output_type": "stream",
     "text": [
      "Enter any word Sakshi\n",
      "ihskaS\n"
     ]
    }
   ],
   "source": [
    "a= input(\"Enter any word \")\n",
    "print(a[::-1])"
   ]
  },
  {
   "cell_type": "markdown",
   "metadata": {},
   "source": [
    "# Write a Python Program to print the given string in the format specified in the sample output.\n",
    "    WE, THE PEOPLE OF INDIA, having solemnly resolved to constitute India into a\n",
    "    SOVEREIGN, SOCIALIST, SECULAR, DEMOCRATIC REPUBLIC and to secure to all\n",
    "    its citizens\n",
    "    \n",
    "    Sample:\n",
    "    WE, THE PEOPLE OF INDIA,\n",
    "        having solemnly resolved to constitute India into a SOVEREIGN, !\n",
    "            SOCIALIST, SECULAR, DEMOCRATIC REPUBLIC\n",
    "                and to secure to all its citizens"
   ]
  },
  {
   "cell_type": "code",
   "execution_count": 34,
   "metadata": {
    "scrolled": true
   },
   "outputs": [
    {
     "name": "stdout",
     "output_type": "stream",
     "text": [
      "WE, THE PEOPLE OF INDIA, \n",
      " \t having solemnly resolved to constitute India into a SOVEREIGN, ! \n",
      "\t\t SOCIALIST, SECULAR, DEMOCRATIC REPUBLIC \n",
      "\t\t\t and to secure to all its citizens\n"
     ]
    }
   ],
   "source": [
    "\n",
    "print(\"WE, THE PEOPLE OF INDIA, \\n \\t having solemnly resolved to constitute India into a SOVEREIGN, ! \\n\\t\\t SOCIALIST, SECULAR, DEMOCRATIC REPUBLIC \\n\\t\\t\\t and to secure to all its citizens\")"
   ]
  },
  {
   "cell_type": "code",
   "execution_count": null,
   "metadata": {},
   "outputs": [],
   "source": [
    "******************* END****************************************"
   ]
  },
  {
   "cell_type": "code",
   "execution_count": null,
   "metadata": {},
   "outputs": [],
   "source": []
  }
 ],
 "metadata": {
  "kernelspec": {
   "display_name": "Python 3",
   "language": "python",
   "name": "python3"
  },
  "language_info": {
   "codemirror_mode": {
    "name": "ipython",
    "version": 3
   },
   "file_extension": ".py",
   "mimetype": "text/x-python",
   "name": "python",
   "nbconvert_exporter": "python",
   "pygments_lexer": "ipython3",
   "version": "3.7.3"
  }
 },
 "nbformat": 4,
 "nbformat_minor": 2
}
